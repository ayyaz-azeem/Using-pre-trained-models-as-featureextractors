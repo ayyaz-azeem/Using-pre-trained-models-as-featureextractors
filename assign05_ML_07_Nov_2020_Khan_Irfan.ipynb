{
 "cells": [
  {
   "cell_type": "code",
   "execution_count": 1,
   "metadata": {},
   "outputs": [
    {
     "name": "stdout",
     "output_type": "stream",
     "text": [
      "/c/Users/92312Wall time: 60 ms\n",
      "\n"
     ]
    }
   ],
   "source": [
    "%%time\n",
    "!pwd"
   ]
  },
  {
   "cell_type": "code",
   "execution_count": null,
   "metadata": {},
   "outputs": [],
   "source": [
    "#%%install_ext https://raw.github.com/cpcloud/ipython-autotime/master/autotime.py\n",
    "#%load_ext autotime"
   ]
  },
  {
   "cell_type": "code",
   "execution_count": 2,
   "metadata": {},
   "outputs": [
    {
     "name": "stdout",
     "output_type": "stream",
     "text": [
      "d:\\\n"
     ]
    }
   ],
   "source": [
    "cd d:\\"
   ]
  },
  {
   "cell_type": "code",
   "execution_count": 3,
   "metadata": {},
   "outputs": [
    {
     "name": "stdout",
     "output_type": "stream",
     "text": [
      "d:\\coding\\python\n"
     ]
    }
   ],
   "source": [
    "cd d:\\coding\\python\\"
   ]
  },
  {
   "cell_type": "code",
   "execution_count": 4,
   "metadata": {},
   "outputs": [
    {
     "name": "stdout",
     "output_type": "stream",
     "text": [
      "/d/coding/python\n"
     ]
    }
   ],
   "source": [
    "!pwd"
   ]
  },
  {
   "cell_type": "code",
   "execution_count": 5,
   "metadata": {},
   "outputs": [],
   "source": [
    "import warnings\n",
    "warnings.filterwarnings(\"ignore\")"
   ]
  },
  {
   "cell_type": "code",
   "execution_count": 6,
   "metadata": {},
   "outputs": [
    {
     "name": "stdout",
     "output_type": "stream",
     "text": [
      "01-Tensorflow Basics.ipynb\n",
      "02-MNIST-with-Tensorflow.ipynb\n",
      "03-Tensorflow with Estimators.ipynb\n",
      "04-Tensorflow Project Exercise.ipynb\n",
      "05-Tensorflow Project Exercise - Solutions-myediting.ipynb\n",
      "05-Tensorflow Project Exercise - Solutions.ipynb\n",
      "05-deep_learning_basics_and_computer_vision.ipynb\n",
      "1.1. Linear Models â€” scikit-learn 0.23.2 documentation.pdf\n",
      "1.10. Decision Trees â€” scikit-learn 0.23.2 documentation.pdf\n",
      "1.11. Ensemble methods â€” scikit-learn 0.23.2 documentation.pdf\n",
      "1.12. Multiclass and multilabel algorithms â€” scikit-learn 0.23.2 documentation.pdf\n",
      "1.13. Feature selection â€” scikit-learn 0.23.2 documentation.pdf\n",
      "1.14. Semi-Supervised â€” scikit-learn 0.23.2 documentation.pdf\n",
      "1.15. Isotonic regression â€” scikit-learn 0.23.2 documentation.pdf\n",
      "1.16. Probability calibration â€” scikit-learn 0.23.2 documentation.pdf\n",
      "1.17. Neural network models (supervised) â€” scikit-learn 0.23.2 documentation.pdf\n",
      "1.1_notebook_quizz_v4.ipynb\n",
      "1.2. Linear and Quadratic Discriminant Analysis â€” scikit-learn 0.23.2 documentation.pdf\n",
      "1.2_notebook_quizz_types.ipynb\n",
      "1.3. Kernel ridge regression â€” scikit-learn 0.23.2 documentation.pdf\n",
      "1.3_notebook_quizz_String_Operations.ipynb\n",
      "1.4. Support Vector Machines â€” scikit-learn 0.23.2 documentation.pdf\n",
      "1.5. Stochastic Gradient Descent â€” scikit-learn 0.23.2 documentation.pdf\n",
      "1.6. Nearest Neighbors â€” scikit-learn 0.23.2 documentation.pdf\n",
      "1.7. Gaussian Processes â€” scikit-learn 0.23.2 documentation.pdf\n",
      "1.8. Cross decomposition â€” scikit-learn 0.23.2 documentation.pdf\n",
      "1.9. Naive Bayes â€” scikit-learn 0.23.2 documentation.pdf\n",
      "1.mp3\n",
      "1.txt\n",
      "1.wav\n",
      "2.1_notebook_quizz_list_tuplesv4.ipynb\n",
      "2.2_notebook_quizz_sets.ipynb\n",
      "2.3_notebook_quizz_dictioary.ipynb\n",
      "2329_3927_bundle_archive\n",
      "2329_3927_bundle_archive.zip\n",
      "3.1_notebook_quizz__Conditions_and_Branching.ipynb\n",
      "3.2_notebook_quizz__Loops.ipynb\n",
      "3.3_notebook_quizz_functions.ipynb\n",
      "3.4_notebook_quizz_objects.ipynb\n",
      "4.3_notebook_quizz_pandas.ipynb\n",
      "4.4_notebook_quizz_pandas.ipynb\n",
      "91783677_3145424692186895_360005382816399360_n.jpg\n",
      "AirPassengers.csv\n",
      "AirPassengers.ipynb\n",
      "Animal_Classification\n",
      "Animal_Classification.bmp\n",
      "Animal_Classification.png\n",
      "Appraisal Document.pdf\n",
      "Assignment-1.ipynb\n",
      "Assignment01_24_Sept_2020.ipynb\n",
      "Assignment01_24_Sept_2020_final.ipynb\n",
      "Building a Youtube Video Downloader using python.mp4\n",
      "Celsius3.ipynb\n",
      "Celsius4.ipynb\n",
      "Celsius5.ipynb\n",
      "Celsius_to_Fahrenheit.ipynb\n",
      "CentralLimitTheorem.ipynb\n",
      "Chinook-On-White-03.jpg\n",
      "CoinToss.ipynb\n",
      "CommViolPredUnnormalizedData.txt\n",
      "Core-Temp-setup.exe\n",
      "Crimes_version2_8jan.ipynb\n",
      "Crimes_version3_8jan.ipynb\n",
      "Crimes_version4_8jan.ipynb\n",
      "Crimes_version9_8jan.ipynb\n",
      "Crimes_version9_8jan_17_Oct_2020.ipynb\n",
      "Crimes_version9_8jan_20-july-2020.ipynb\n",
      "Detect_Faces.ipynb\n",
      "Dogs_Cats.csv\n",
      "EURUSD1m.csv\n",
      "Ex1.txt\n",
      "Ex2.txt\n",
      "Example1.txt\n",
      "Example2.txt\n",
      "Example3.txt\n",
      "INFLATION.csv\n",
      "Image_Resize.ipynb\n",
      "Image_Resolution.ipynb\n",
      "Image_to_BlacknWhite.ipynb\n",
      "Journey.wav\n",
      "LRex01.ipynb\n",
      "Lab-Loading+Graphs+in+NetworkX.ipynb\n",
      "Language_Translation.ipynb\n",
      "Language_translator.ipynb\n",
      "MLfinalq4try.ipynb\n",
      "Matplotlib-lib1.ipynb\n",
      "Mid Exam.ipynb\n",
      "Mid Tnt.ipynb\n",
      "MidTerm-Copy1.ipynb\n",
      "MidTerm.ipynb\n",
      "OCR-Copy1.ipynb\n",
      "OCR.ipynb\n",
      "OOPS\n",
      "PDF2AudioFile.py\n",
      "PDF2AudioFile_paper01.py\n",
      "PDF_splitter.py\n",
      "PY0101EN-4-3-LoadData.ipynb\n",
      "PY0101EN-5.2_API_2.ipynb\n",
      "Pandas-Data-Science-Tasks-master\n",
      "Pandas-Data-Science-Tasks-master.zip\n",
      "PolynomialRegressionandPipelines.mp3\n",
      "Progressive_bar.ipynb\n",
      "Python_Thesaurus.py\n",
      "Regular.csv\n",
      "Regular.ipynb\n",
      "SMSSpamCollection\n",
      "SNA_graphs.py\n",
      "Social_Network_Ads.csv\n",
      "Some_New_Doc.pdf\n",
      "SqueezeNet_v1.2-master.zip\n",
      "TNTDemo-Copy1.ipynb\n",
      "TNTDemo.ipynb\n",
      "TextBlob.ipynb\n",
      "Text_to_Speech.ipynb\n",
      "Thinking-of-getting-a-cat.png\n",
      "Tiny_URL.ipynb\n",
      "UMICH_SI650_Sentiment_Classification.txt\n",
      "US_Declaration.mp3\n",
      "US_Declaration.pdf\n",
      "US_Declaration_split.pdf\n",
      "Unsupervised+Learning.ipynb\n",
      "Untitled-Copy1.ipynb\n",
      "Untitled.ipynb\n",
      "Untitled1.ipynb\n",
      "Untitled10.ipynb\n",
      "Untitled11.ipynb\n",
      "Untitled12-Copy1.ipynb\n",
      "Untitled12.ipynb\n",
      "Untitled13-Copy1.ipynb\n",
      "Untitled13-Copy2.ipynb\n",
      "Untitled13.ipynb\n",
      "Untitled14.ipynb\n",
      "Untitled15-Copy1.ipynb\n",
      "Untitled15.ipynb\n",
      "Untitled16-Copy1.ipynb\n",
      "Untitled16.ipynb\n",
      "Untitled17.ipynb\n",
      "Untitled18.ipynb\n",
      "Untitled19.ipynb\n",
      "Untitled2.ipynb\n",
      "Untitled20.ipynb\n",
      "Untitled21.ipynb\n",
      "Untitled22.ipynb\n",
      "Untitled23.ipynb\n",
      "Untitled24.ipynb\n",
      "Untitled25.ipynb\n",
      "Untitled26.ipynb\n",
      "Untitled27.ipynb\n",
      "Untitled28.ipynb\n",
      "Untitled29.ipynb\n",
      "Untitled3.ipynb\n",
      "Untitled30.ipynb\n",
      "Untitled31.ipynb\n",
      "Untitled4.ipynb\n",
      "Untitled41_30_Sept_2020.ipynb\n",
      "Untitled42_30_Sept_2020.ipynb\n",
      "Untitled43_30_Sept_2020.ipynb\n",
      "Untitled44_14_sept_2020.ipynb\n",
      "Untitled44_14_sept_2020b.ipynb\n",
      "Untitled44_14_sept_2020c.ipynb\n",
      "Untitled44_17_Sept_2020.ipynb\n",
      "Untitled44_30_Sept_2020.ipynb\n",
      "Untitled44_30_Sept_2020b.ipynb\n",
      "Untitled45_17_sept_2020.ipynb\n",
      "Untitled45_30_Sept_2020.ipynb\n",
      "Untitled47_18_Sept_2020.ipynb\n",
      "Untitled47_30_Sept_2020.ipynb\n",
      "Untitled48_30_Sept_2020.ipynb\n",
      "Untitled49_30_Sept_2020.ipynb\n",
      "Untitled5.ipynb\n",
      "Untitled6.ipynb\n",
      "Untitled7.ipynb\n",
      "Untitled8.ipynb\n",
      "Untitled9.ipynb\n",
      "Walkthrough.ipynb\n",
      "WalkthroughTNTW8.ipynb\n",
      "WebCAM.ipynb\n",
      "Week 6 - Machine Learning.ipynb\n",
      "Week 6 - Machine Learning.py\n",
      "Week+1 (2).ipynb\n",
      "Week+1.ipynb\n",
      "Week+4.ipynb\n",
      "__pycache__\n",
      "a1.py\n",
      "a10.py\n",
      "a11.py\n",
      "a12.py\n",
      "a13.py\n",
      "a14.py\n",
      "a15.py\n",
      "a16.py\n",
      "a17.py\n",
      "a18.py\n",
      "a19 txt_file_to_audio_file.py\n",
      "a2.py\n",
      "a21.py\n",
      "a22.py\n",
      "a23.py\n",
      "a24.py\n",
      "a25.py\n",
      "a26 text_line_to_audio.py\n",
      "a27 text_multilines_to audio.py\n",
      "a28 text_multilines_to audio.py\n",
      "a29 combining_2_csv.py\n",
      "a3.py\n",
      "a30.py\n",
      "a31 txt_to_json.py\n",
      "a32 multiline_text_to_audio_file.py\n",
      "a33.py\n",
      "a34.py\n",
      "a35.py\n",
      "a36.py\n",
      "a37.py\n",
      "a38.py\n",
      "a39.py\n",
      "a4.py\n",
      "a40.py\n",
      "a41.py\n",
      "a42.py\n",
      "a43 yoputube-downloader.py\n",
      "a43.py\n",
      "a44 youtube_downloader.py\n",
      "a45.py\n",
      "a46.py\n",
      "a47.py\n",
      "a48.py\n",
      "a49.py\n",
      "a5.py\n",
      "a50.py\n",
      "a51.py\n",
      "a52_udemy_2020_Complete_python_bootcamp.py\n",
      "a53.py\n",
      "a54.py\n",
      "a55.py\n",
      "a56.py\n",
      "a57_pencil_sketch.py\n",
      "a58.py\n",
      "a6.py\n",
      "a7.py\n",
      "a8.py\n",
      "a9.py\n",
      "adspy_shared_utilities.py\n",
      "assign05.ipynb\n",
      "assignment05v1.ipynb\n",
      "awscli-bundle.zip\n",
      "ayaz-Copy1.ipynb\n",
      "ayaz-Copy2.ipynb\n",
      "ayaz.ipynb\n",
      "bank_note_data.csv\n",
      "card-pole-code-instagram.txt\n",
      "cart-pole code.txt\n",
      "celsius.ipynb\n",
      "celsius1.ipynb\n",
      "celsius2.ipynb\n",
      "celsius_dataset.txt\n",
      "cnn mnist-Copy1.ipynb\n",
      "cnn mnist.ipynb\n",
      "combined.csv\n",
      "combined3.csv\n",
      "combined4.csv\n",
      "combined5.csv\n",
      "crime-in-vancouver.zip\n",
      "crime_ML_project-Copy1.ipynb\n",
      "crime_ML_project.ipynb\n",
      "crime_heatmap.html\n",
      "crime_heatmap1.html\n",
      "crimedata_csv_all_years_10july2020vuncuver\n",
      "crimedata_csv_all_years_10july2020vuncuver.zip\n",
      "crimes_dusra.ipynb\n",
      "diabetes.csv\n",
      "dogs-vs-cats-redux-kernels-edition.zip\n",
      "file_03Sept2020.txt\n",
      "final_stocks_project_23_Sept_2020.ipynb\n",
      "first.pem\n",
      "fruit_data_with_colors.txt\n",
      "gaussian_02.ipynb\n",
      "gaussian_answer.py\n",
      "gaussian_class_full_implementation.ipynb\n",
      "gaussian_class_full_implementation.py\n",
      "gaussian_code_exercise.ipynb\n",
      "hand_written_recognition-Copy2.ipynb\n",
      "hand_written_recognition.ipynb\n",
      "hello.mp3\n",
      "ibm-credentials.env\n",
      "ibmwatson_learning1.ipynb\n",
      "insta_.ipynb\n",
      "irfan_project.ipynb\n",
      "irfan_project_15_Sept_2020.ipynb\n",
      "irfan_project_30_Sept_2020.ipynb\n",
      "iris.csv\n",
      "kaggle.json\n",
      "kaggle1.json\n",
      "knn.py\n",
      "l01c01_introduction_to_colab_and_python.ipynb\n",
      "l02c01_celsius_to_fahrenheit.ipynb\n",
      "l03c01_classifying_images_of_clothing (1).ipynb\n",
      "l03c01_classifying_images_of_clothing.ipynb\n",
      "labels.csv\n",
      "lesson04.ipynb\n",
      "math_func.py\n",
      "miles_per_hours_regression_model_tf.ipynb\n",
      "mobilenet_v2-0000.params\n",
      "mobilenet_v2-symbol - Copy.json\n",
      "mobilenet_v2-symbol.json\n",
      "model-0000.params\n",
      "model-symbol.json\n",
      "model-symbol1.json\n",
      "module2_cognitiveclass_python101.ipynb\n",
      "movie_review.ipynb\n",
      "mpg.csv\n",
      "music_player.ipynb\n",
      "music_player2.ipynb\n",
      "my_new_file.txt\n",
      "myfile\n",
      "myfile.txt\n",
      "numbers.txt\n",
      "owlcreek.txt\n",
      "pdf_file_split.py\n",
      "plot_stock_market.ipynb\n",
      "project_17_Sept_2020.ipynb\n",
      "project_30_Sept_2020.ipynb\n",
      "py0101EN_module3-5.ipynb\n",
      "py101_module4-5.ipynb\n",
      "pythontest.ipynb\n",
      "reading_jason_file.ipynb\n",
      "reaganomics.txt\n",
      "regression.ipynb\n",
      "resources\n",
      "rps-test-set.zip\n",
      "rps.zip\n",
      "rps.zip.2\n",
      "rps2.zip\n",
      "sample.csv\n",
      "sample1.csv\n",
      "sample_submission.csv\n",
      "screenshot_2020-10-31_at_14.30.09.png\n",
      "shirt_class.ipynb\n",
      "shirt_class1.ipynb\n",
      "shirt_class1.py\n",
      "shirt_class2.ipynb\n",
      "shirt_class2.py\n",
      "shirt_class3.ipynb\n",
      "shirt_class3.py\n",
      "shirt_class4.ipynb\n",
      "shirt_class4.py\n",
      "sinc plot 2.ipynb\n",
      "sinc plot.ipynb\n",
      "smallfile.json\n",
      "smallfile.txt\n",
      "speech_to_text.ipynb\n",
      "split.pdf\n",
      "split1.pdf\n",
      "split11.pdf\n",
      "stock_exchange\n",
      "stock_exchange_project.ipynb\n",
      "stock_exchange_project_30_Sept_2020.ipynb\n",
      "stocks_21_sept_2020.ipynb\n",
      "stocks_22_sept_2020.ipynb\n",
      "stocks_22_sept_2020b.ipynb\n",
      "sumvlistalues.py\n",
      "sumvlistalues.pyc\n",
      "tensorflow_training1.ipynb\n",
      "test-400.jpg\n",
      "test-600.jpg\n",
      "test-600.png\n",
      "test.txt\n",
      "test.zip\n",
      "testAudio.mp3\n",
      "test_a35.py\n",
      "test_math_func.py\n",
      "text.png\n",
      "text.txt\n",
      "train\n",
      "train.zip\n",
      "udemyMLproject01.ipynb\n",
      "voice.mp3\n",
      "voice1.mp3\n",
      "weight-height.csv\n",
      "winequality-red.csv\n",
      "winequality-white.csv\n",
      "winequality.names\n",
      "â€ªImage to Text with Python - pytesseractâ€¬â€�.mp4\n"
     ]
    }
   ],
   "source": [
    "!ls "
   ]
  },
  {
   "cell_type": "code",
   "execution_count": 7,
   "metadata": {},
   "outputs": [],
   "source": [
    "!chmod 600 ~/.kaggle/kaggle.json"
   ]
  },
  {
   "cell_type": "code",
   "execution_count": 8,
   "metadata": {},
   "outputs": [],
   "source": [
    "#!pip install mxnet==1.5.1\n",
    "import mxnet as mx"
   ]
  },
  {
   "cell_type": "code",
   "execution_count": 9,
   "metadata": {},
   "outputs": [
    {
     "name": "stdout",
     "output_type": "stream",
     "text": [
      "382\n"
     ]
    }
   ],
   "source": [
    "!ls -1 | wc -l"
   ]
  },
  {
   "cell_type": "code",
   "execution_count": 10,
   "metadata": {},
   "outputs": [
    {
     "name": "stdout",
     "output_type": "stream",
     "text": [
      "25000\n"
     ]
    }
   ],
   "source": [
    "# number of files in train folder\n",
    "!ls /d/coding/python/train -1 | wc -l"
   ]
  },
  {
   "cell_type": "markdown",
   "metadata": {},
   "source": [
    "# SQUEEZENET"
   ]
  },
  {
   "cell_type": "code",
   "execution_count": 11,
   "metadata": {},
   "outputs": [],
   "source": [
    "#!wget https://github.com/miaow1988/SqueezeNet_v1.2/blob/master/model-0000.params"
   ]
  },
  {
   "cell_type": "code",
   "execution_count": 12,
   "metadata": {},
   "outputs": [],
   "source": [
    "#!wget https://github.com/miaow1988/SqueezeNet_v1.2/blob/master/model-symbol.json"
   ]
  },
  {
   "cell_type": "code",
   "execution_count": 13,
   "metadata": {},
   "outputs": [],
   "source": [
    "#!wget https://github.com/KeyKy/mobilenet-mxnet/blob/master/mobilenet_v2-0000.params"
   ]
  },
  {
   "cell_type": "code",
   "execution_count": 14,
   "metadata": {},
   "outputs": [],
   "source": [
    "#!wget https://github.com/KeyKy/mobilenet-mxnet/blob/master/mobilenet_v2-symbol.json"
   ]
  },
  {
   "cell_type": "code",
   "execution_count": 15,
   "metadata": {},
   "outputs": [
    {
     "name": "stdout",
     "output_type": "stream",
     "text": [
      "Requirement already satisfied: mxnet in c:\\users\\92312\\anaconda3\\envs\\myenv\\lib\\site-packages (1.5.0)\n",
      "Requirement already satisfied: numpy<1.17.0,>=1.8.2 in c:\\users\\92312\\anaconda3\\envs\\myenv\\lib\\site-packages (from mxnet) (1.16.6)\n",
      "Requirement already satisfied: requests<2.19.0,>=2.18.4 in c:\\users\\92312\\anaconda3\\envs\\myenv\\lib\\site-packages (from mxnet) (2.18.4)\n",
      "Requirement already satisfied: graphviz<0.9.0,>=0.8.1 in c:\\users\\92312\\anaconda3\\envs\\myenv\\lib\\site-packages (from mxnet) (0.8.4)\n",
      "Requirement already satisfied: chardet<3.1.0,>=3.0.2 in c:\\users\\92312\\anaconda3\\envs\\myenv\\lib\\site-packages (from requests<2.19.0,>=2.18.4->mxnet) (3.0.4)\n",
      "Requirement already satisfied: idna<2.7,>=2.5 in c:\\users\\92312\\anaconda3\\envs\\myenv\\lib\\site-packages (from requests<2.19.0,>=2.18.4->mxnet) (2.6)\n",
      "Requirement already satisfied: urllib3<1.23,>=1.21.1 in c:\\users\\92312\\anaconda3\\envs\\myenv\\lib\\site-packages (from requests<2.19.0,>=2.18.4->mxnet) (1.22)\n",
      "Requirement already satisfied: certifi>=2017.4.17 in c:\\users\\92312\\anaconda3\\envs\\myenv\\lib\\site-packages (from requests<2.19.0,>=2.18.4->mxnet) (2020.6.20)\n"
     ]
    }
   ],
   "source": [
    "!pip install mxnet"
   ]
  },
  {
   "cell_type": "code",
   "execution_count": 16,
   "metadata": {},
   "outputs": [],
   "source": [
    "sym, arg_params, aux_params = mx.model.load_checkpoint('model', 0)\n",
    "#pretrained/SqueezeNet_v1.2\n",
    "#sym, arg_params, aux_params = mx.model.load_checkpoint('pretrained/SqueezeNet_v1.2', 0)"
   ]
  },
  {
   "cell_type": "code",
   "execution_count": 17,
   "metadata": {},
   "outputs": [
    {
     "name": "stderr",
     "output_type": "stream",
     "text": [
      "Python 3.6.12 :: Anaconda, Inc.\n"
     ]
    }
   ],
   "source": [
    "!python --version"
   ]
  },
  {
   "cell_type": "code",
   "execution_count": 18,
   "metadata": {},
   "outputs": [],
   "source": [
    "#!pip install matplotlib"
   ]
  },
  {
   "cell_type": "code",
   "execution_count": 19,
   "metadata": {},
   "outputs": [],
   "source": [
    "mod = mx.mod.Module(symbol=sym, context=mx.cpu(), label_names=None)\n",
    "mod.bind(for_training=False, data_shapes=[('data', (1,3,224,224))], \n",
    "         label_shapes=mod._label_shapes)\n",
    "mod.set_params(arg_params, aux_params, allow_missing=True)"
   ]
  },
  {
   "cell_type": "code",
   "execution_count": 20,
   "metadata": {},
   "outputs": [],
   "source": [
    "import matplotlib.pyplot as plt\n",
    "%matplotlib inline\n",
    "import cv2\n",
    "import numpy as np\n",
    "# define a simple data batch\n",
    "from collections import namedtuple\n",
    "Batch = namedtuple('Batch', ['data'])"
   ]
  },
  {
   "cell_type": "code",
   "execution_count": 21,
   "metadata": {},
   "outputs": [
    {
     "data": {
      "text/plain": [
       "['fire9_concat_output',\n",
       " 'dropout0_output',\n",
       " 'conv10_conv_weight',\n",
       " 'conv10_conv_bias',\n",
       " 'conv10_conv_output',\n",
       " 'conv10_relu_output',\n",
       " 'pool10_output',\n",
       " 'flatten0_output',\n",
       " 'softmax_label',\n",
       " 'softmax_output']"
      ]
     },
     "execution_count": 21,
     "metadata": {},
     "output_type": "execute_result"
    }
   ],
   "source": [
    "# list the last 10 layers\n",
    "all_layers = sym.get_internals()\n",
    "all_layers.list_outputs()[-10:]"
   ]
  },
  {
   "cell_type": "code",
   "execution_count": 22,
   "metadata": {},
   "outputs": [],
   "source": [
    "fe_sym = all_layers['flatten0_output']\n",
    "fe_mod = mx.mod.Module(symbol=fe_sym, context=mx.cpu(), label_names=None)\n",
    "fe_mod.bind(for_training=False, data_shapes=[('data', (1,3,224,224))])\n",
    "fe_mod.set_params(arg_params, aux_params)"
   ]
  },
  {
   "cell_type": "code",
   "execution_count": 23,
   "metadata": {},
   "outputs": [],
   "source": [
    "def get_features(img):\n",
    "    fe_mod.forward(Batch([mx.nd.array(img)]))\n",
    "    features = fe_mod.get_outputs()[0].asnumpy()\n",
    "    return features"
   ]
  },
  {
   "cell_type": "code",
   "execution_count": 24,
   "metadata": {},
   "outputs": [],
   "source": [
    "def get_image(url, show=False):\n",
    "    if url.startswith('http'):\n",
    "        # download and show the image\n",
    "        fname = mx.test_utils.download(url)\n",
    "    else:\n",
    "        fname = url\n",
    "    img = cv2.cvtColor(cv2.imread(fname), cv2.COLOR_BGR2RGB)\n",
    "    if img is None:\n",
    "         return None\n",
    "    if show:\n",
    "         plt.imshow(img)\n",
    "         plt.axis('off')\n",
    "    # convert into format (batch, RGB, width, height)\n",
    "    img = cv2.resize(img, (224, 224))\n",
    "    img = np.swapaxes(img, 0, 2)\n",
    "    img = np.swapaxes(img, 1, 2)\n",
    "    img = img[np.newaxis, :]\n",
    "    return img"
   ]
  },
  {
   "cell_type": "code",
   "execution_count": 25,
   "metadata": {},
   "outputs": [],
   "source": [
    "def predict(url):\n",
    "    img = get_image(url, show=True)\n",
    "    # compute the predict probabilities\n",
    "    mod.forward(Batch([mx.nd.array(img)]))\n",
    "    prob = mod.get_outputs()[0].asnumpy()\n",
    "    # print the top-5\n",
    "    prob = np.squeeze(prob)\n",
    "    a = np.argsort(prob)[::-1]\n",
    "    for i in a[0:5]:\n",
    "        print('probability=%f, class=%s' %(prob[i], labels[i]))"
   ]
  },
  {
   "cell_type": "code",
   "execution_count": 26,
   "metadata": {},
   "outputs": [
    {
     "name": "stdout",
     "output_type": "stream",
     "text": [
      "[[ 2.731812    3.900898    4.886676    6.9023705   5.5878525   5.5976615\n",
      "   3.629975    5.6956005   5.783275    5.9859443  10.328435    7.2491193\n",
      "  10.0898     11.63578     5.579315   10.29896     9.659982    9.824672\n",
      "   5.9974594   9.134588   10.065866   10.166415    9.808081    6.2899804\n",
      "  13.240796    1.9723076   7.6495514   3.7121732   2.7841308   6.293435\n",
      "   6.945307    8.631692    7.296452    6.8019      6.523342    5.698733\n",
      "   8.282391    3.8308432  10.181626    8.768396   12.96276     9.041883\n",
      "   9.2452     10.779444   11.305762    5.7258286  11.200753   10.964641\n",
      "   3.4149983   5.8307905   7.5116653   9.025102    3.9738123   3.9767184\n",
      "   8.057209    4.7041106   8.180445    4.212362    7.9470005   5.90094\n",
      "   7.274863    9.651379    6.8402634   3.008466    4.3598137   4.1929665\n",
      "   8.628107    3.9853954   5.85128     7.3413982   7.4339786   6.6312594\n",
      "   8.691613    8.439705    8.843549    9.059312    9.449073   12.678202\n",
      "  11.697754    7.8836465   7.3444376   6.4519577   6.810825   11.757463\n",
      "  10.983698    7.6246886   5.5038695   7.0347304  12.915622    8.201405\n",
      "   3.994503    5.410097    6.8564887   6.9246025   9.8086815   6.9710774\n",
      "   4.193385    3.50595     1.6024156   4.7404633   3.3018112   2.9084263\n",
      "   2.415487    5.3541484   8.748272    5.6931205   5.78507     6.12905\n",
      "   5.1263065   5.9972253   7.4542603   6.640498   11.303707    7.1208987\n",
      "   9.347334    8.703756    4.862454   12.2739525   6.180233    4.480562\n",
      "   5.6459785   1.0452358   6.122117    5.4823976  11.299999    4.1871943\n",
      "   7.71949     2.9370356   4.467441    4.9877315   5.1120286   6.40134\n",
      "   9.139218    8.804351    6.144144    2.6501622   4.686039    3.7774026\n",
      "  10.005825    8.510311    7.5478544   7.3255296   7.3307242   3.8225973\n",
      "   4.816144    6.866867    4.5165176   7.426783    6.511624    3.6083217\n",
      "   7.267048   10.171129    7.746411    5.281473    8.630497    5.626667\n",
      "   6.5024347  13.557568    9.849359    4.837752    4.333935    3.7696323\n",
      "   5.3609295   2.2633295   2.98707     2.4315627   3.9928892   2.2981822\n",
      "   3.342407    6.635318    2.192593    8.712072    4.9626703   8.373492\n",
      "   4.807754    2.604943    4.978068    3.2130494   7.1132894   1.5388218\n",
      "   2.2567573   3.458329    2.7490795   4.9099455   4.1809993   3.6504633\n",
      "   5.125884    7.6492615   5.345399    4.6102123   3.795777    2.694023\n",
      "   6.086537    5.387833    1.9049263   8.116256    7.423189    3.3709116\n",
      "   5.399277    6.287826    3.9034204   6.057797    4.3366733   7.391601\n",
      "   5.458247    3.5410907   0.8116387   4.913134    3.0773628   2.524288\n",
      "   3.4502816   5.5048203   5.5890627   3.111317    1.8214488   4.929328\n",
      "   4.658477    5.163583    3.2834659   3.5414617   2.3487625   1.1612093\n",
      "   4.3987837   7.205919    7.160168    5.134451    3.4099333   7.2843556\n",
      "   1.0771722   3.4878016   7.6779838   6.426784    6.5381455   2.581391\n",
      "   4.5315685   5.8846464   6.235899    7.2709856   3.3144867   5.621662\n",
      "   4.957663    2.6886454   7.497139    3.8266103   2.0137925   6.833844\n",
      "   5.250486    2.5354953  10.352083    6.991752    9.562757    5.328881\n",
      "   7.0152397  12.107493    7.2554445   2.0420218   2.8452964   4.244531\n",
      "   5.744788    5.4434156   1.5472522   3.3997128   6.343063    9.78134\n",
      "   8.96338     3.3579895   1.9317473   1.5271807   5.0281773   7.896086\n",
      "   7.7716556  10.337724    9.567745    7.9217057   7.9268084   5.3693123\n",
      "   6.6163344  10.761529   11.807285    9.075543   11.988959   22.696743\n",
      "  22.162323   12.080123   12.826471   21.835653   14.643059   20.231909\n",
      "  13.029128   13.020741   10.732145   10.547263   15.827932    7.679771\n",
      "   1.9486969   1.970214    3.0648887   3.9313178   8.43166     9.492557\n",
      "   6.441335    7.1024995   7.843514    9.124733    6.7014875   3.3743446\n",
      "   7.671623    9.547771    8.999785   10.56783     9.413501   11.694575\n",
      "   8.665098    8.841963    5.5585203   8.441075    9.334013    8.717619\n",
      "  10.550848    8.072866    7.4475703   5.9206634  12.910718    5.2324095\n",
      "  10.362941    6.979834   11.146726   10.812782    6.1894917   4.91079\n",
      "  15.443866   17.415869   11.733546   11.387103    3.4203036  11.020241\n",
      "   5.445361    3.4969065   6.3759475   6.3474693  13.639748    7.980881\n",
      "   6.675926    6.94456     7.724025    5.3664584   4.7508082   6.613133\n",
      "   4.9604473   6.077958    9.4021      7.6230917  10.184332   10.919795\n",
      "   4.3083596   9.011375    9.799607    9.7259245   5.6023235   5.6934505\n",
      "   7.5121617   4.707308    7.7173448   7.038019    2.5001907   8.207554\n",
      "   7.1257854   7.286927    4.8646      4.4201236   7.9287863   7.410235\n",
      "   3.3168452   4.6729064   6.1844077   4.931931    2.6935425   7.101244\n",
      "   2.4658318   2.89273     5.3334613   2.9348166   4.585412    7.929239\n",
      "   6.5128403   4.9168253   4.0626335   6.639361    2.1379588   9.514823\n",
      "   7.6458187  10.895908    5.6789308   5.7382855   8.675856    7.4208903\n",
      "   4.531518    9.101163    9.213087   11.0596075   8.179051    9.600113\n",
      "   8.79123     2.6726408   5.024301    2.4073465  12.150897    0.76296633\n",
      "   0.5038563   7.698403    4.4655457   6.7847123  10.82722     4.090029\n",
      "   6.0966706   8.620804    7.540544    3.5552733  13.943615    9.3506775\n",
      "   7.003283   11.929674    6.1212196   3.899696    5.960222    1.7010775\n",
      "   7.056834    4.255964    8.233021    7.9206142   8.374679    7.7616105\n",
      "  10.318233    6.185758   14.05891    12.324538    4.4500723   3.7979531\n",
      "  11.232958   10.459604    9.267933   13.071587    5.993655    9.3386965\n",
      "   3.3234677   7.087869   10.93612     4.7873716   8.666861    4.634499\n",
      "   5.0674467  13.847441   11.273701   13.505605   11.774431   11.9611635\n",
      "  10.948316   17.558033    7.588045   10.792004    3.4737248  13.2257595\n",
      "   4.9713297  14.716063   10.0185995   3.4421515   3.9179456   4.786414\n",
      "   3.2410672   8.168965    9.91004     4.8734303   3.3967478  16.299444\n",
      "  10.226325    5.2889423   3.468615    8.962406   13.654785    7.991586\n",
      "   4.363833    8.174878    5.608153    6.835205    3.5675814   7.301462\n",
      "   5.185373   10.017095   11.80642     9.212149    8.4429245   5.80141\n",
      "   9.667006   12.208717   11.963175    7.345216    9.081502    9.427847\n",
      "   8.753898    7.2916155   1.8946753  11.637853    9.241547   13.928189\n",
      "  13.06165    15.367341   12.914505   12.344783   11.604444    8.127106\n",
      "   2.5657392   2.1852176  15.490841   10.774006   16.341034   11.205923\n",
      "   9.197771    5.786351    4.4183025   9.605479    8.044161   11.222432\n",
      "   5.2172      5.975121   10.967843    3.1460893   5.208506    9.072665\n",
      "   7.3603683   7.686628    7.032531    3.9155047  10.085672    6.1941204\n",
      "  13.652328    6.0107265   2.6337419   4.9069314   7.181142   14.790271\n",
      "   2.8501515   7.726963   13.043632   15.613863    2.583749    9.394105\n",
      "   8.6676035   0.41363326  4.146782    9.67872     9.279223    8.796541\n",
      "  16.4047     11.5193615   5.3688045   1.984938    7.5876045   6.9396825\n",
      "  14.072974    4.313797    4.247334    2.5274694  14.33964    14.996346\n",
      "   5.0891495   2.2578015  10.512023    7.1637583   6.479706    0.6981036\n",
      "   8.151602    2.126832   19.057438    0.35773605  7.0367427   0.7631183\n",
      "   3.4614582   6.594459   13.109664    7.9887624   4.068507    7.1986895\n",
      "   8.804501    3.9188902  11.875959   12.563932    1.2866049  10.684025\n",
      "  10.414188    9.318348    6.4337487  10.807209   13.9467     13.667538\n",
      "  10.968394    0.31435058  8.297131    7.201411    5.2648506   9.962434\n",
      "  12.99909     6.0167027   6.755425    4.2900424  12.476635    9.821191\n",
      "  13.725561    3.7854533  12.910076    1.9558824   8.380436    8.893562\n",
      "   2.7058542   5.410047    7.5020194   5.542324    9.119854    9.73772\n",
      "  13.117701   10.940124   11.175711    1.406536   14.934693   15.472118\n",
      "  11.472244    2.485258   14.423505    2.9746714   2.8564594  11.77143\n",
      "   6.1318235  11.445189    9.001336    9.262844    2.1180592   9.955632\n",
      "   7.700891   13.581739    8.4076      9.292692    3.1939998   3.232419\n",
      "   5.744683   17.093956    9.243409    3.5197144   3.9177282   9.475567\n",
      "  13.095526    5.068781   10.414359   10.499538    5.8909526   8.429688\n",
      "   3.668364    9.282007    1.9323313   4.94462     8.410939   10.613595\n",
      "   3.3637278   2.1542652   9.364938    9.538076   11.225167    2.438679\n",
      "   9.073262    6.7250767   5.564789    7.6732173   6.279336    3.7686012\n",
      "   1.9405166  10.818338    9.91537     1.2044476   5.1299253  12.860839\n",
      "   4.7520866  11.391399   13.650659   10.387297   14.147362   12.050399\n",
      "   6.563175    2.0673943   5.9914737   8.105741    6.44125     8.340171\n",
      "   3.8919117   4.5356436  12.865544    5.7256727   3.525284    9.760831\n",
      "  15.003664    7.7152114   7.3014693   6.4310384  14.705738    3.274754\n",
      "   8.713832    5.6867223   8.028869    3.5077872   5.1369505   7.5494065\n",
      "  12.989616    8.225569   13.512066   16.23734     8.576904    4.9031487\n",
      "  10.672872    7.348828   11.329117    1.7260668   4.011467   11.259492\n",
      "   9.169684   11.627292   15.071683    9.140865    1.1424189  17.970129\n",
      "   9.407949    2.7270186  18.140486    9.003847    2.5072134  10.935851\n",
      "   4.9892483  11.738513    0.52019525  7.8873      4.24844    11.841047\n",
      "  11.201463    7.455634    7.2534976   8.160788    7.77645     4.2174435\n",
      "   5.5322914   7.0204196   4.0031576  10.046073    8.734598   15.279126\n",
      "   9.053204    2.3913186   5.732251   18.224155    7.5134535   3.9214163\n",
      "   5.300208    3.0420492   6.3857594   8.329537   11.639782   17.700714\n",
      "   8.512334    8.652159    7.3959537   7.1831346   5.4304075  13.718815\n",
      "   6.6245522  15.252483   14.832651    6.6380954  11.767881   16.180178\n",
      "   8.354548    7.03131    11.555989   13.561806    7.1899133   3.1991372\n",
      "   3.8116345   2.8905377  11.651769   15.387638   14.040853    6.565446\n",
      "  13.462716   12.679194   10.703344   11.839084    6.4391747   7.229307\n",
      "   6.290086   10.939685   17.566397    7.924627    5.3297095   7.7819676\n",
      "   3.5846536  13.153733    7.882102    4.1145      1.4778726   0.9619494\n",
      "  11.64157     6.8478184  10.172747    4.869986   10.389148    8.457949\n",
      "   6.292947   11.046795    4.5261507   9.975329    2.8246858   8.585759\n",
      "   7.7183886   3.7410016   9.822101    7.828371    2.135351    4.3781753\n",
      "   6.6460547   9.450028    8.374489    1.8673855   6.908634    7.6942377\n",
      "  10.442543    1.6138124   4.992465    5.0941358   5.5209208   3.5012095\n",
      "  11.521548   13.694515    4.702955    6.5822797  11.46124     2.659943\n",
      "  11.959797   11.355201    5.2679415   3.2046177  10.093636   12.032429\n",
      "  10.127256    2.4071126   6.0026193  11.668372    5.411328    9.999648\n",
      "   9.526372    2.4523509   7.007791   16.54697     1.5456221   8.567241\n",
      "   3.0186105  13.096735    8.174237   12.758465    9.848466    9.25708\n",
      "   0.9611106   5.522036    2.5690813   2.928036   10.095376    8.211961\n",
      "   3.408937    2.8309448   7.2162156   9.619771    0.22439492 10.548249\n",
      "  10.733221    7.318069   11.090988   11.2479925   6.309042    7.397608\n",
      "   6.753635   17.710535    8.317594   11.241346    7.7849264  11.963484\n",
      "   3.5570066   8.755915    5.8203      6.24455     9.4146185   8.909975\n",
      "  11.53808     6.4253025  17.255009   13.751666   11.622288   15.469\n",
      "   4.2377596   7.7361646  10.365317   13.240438   18.205475   14.377346\n",
      "   9.415743   10.363938    3.6586401   9.33291     9.287964    9.225867\n",
      "  10.726657    2.3643987   3.2395902   2.7732954   7.17731    10.607796\n",
      "  13.280322    7.78        3.3202124  10.017651    6.189192    6.967744\n",
      "   5.7646823   8.264954    2.065885    9.877998    9.344263   11.44254\n",
      "   5.910218    4.1088095   5.1819386   2.406357    4.4888825   4.482684\n",
      "   3.3455498  12.267348    6.3040047   5.797586    5.4890037   2.9057486\n",
      "   8.029715    7.3118124   5.331028    6.7807636   7.269804    7.031609\n",
      "   6.9609904   8.205075    6.2120514   9.704171    4.3887997   9.3089285\n",
      "   5.3341084   6.456188    5.7876287   4.358955    7.141377    4.1641693\n",
      "   8.003896    8.619182    2.5742772   2.4626918   3.8087516   5.987409\n",
      "  10.418254    9.594039   18.342419   11.671423    2.6376793   9.242506\n",
      "   2.542373    6.4728875   5.514851    5.139831    1.7740526   3.924323\n",
      "   5.7800474   5.5538397   2.673251    7.5682654   8.417677    2.7631457\n",
      "  10.067946    9.356203    5.7668056  13.894631    7.128602    8.015947\n",
      "   4.268326    7.279767    3.921046    4.57002     6.206504    5.756426\n",
      "   7.1734476   3.3807807  11.519492   16.308502  ]]\n",
      " shape: (1, 1000)\n"
     ]
    }
   ],
   "source": [
    "img = get_image('https://icatcare.org/app/uploads/2018/07/Thinking-of-getting-a-cat.png')\n",
    "features = get_features(img)\n",
    "print(\"{}\\n shape: {}\".format(features,features.shape))"
   ]
  },
  {
   "cell_type": "code",
   "execution_count": 27,
   "metadata": {},
   "outputs": [
    {
     "name": "stdout",
     "output_type": "stream",
     "text": [
      "/d/coding/python\n"
     ]
    }
   ],
   "source": [
    "!pwd"
   ]
  },
  {
   "cell_type": "code",
   "execution_count": 28,
   "metadata": {},
   "outputs": [],
   "source": [
    "# from https://www.kaggle.com/c/dogs-vs-cats-redux-kernels-edition/data\n",
    "from os import listdir\n",
    "from os.path import isfile, join\n",
    "import os\n",
    "\n",
    "\n",
    "mypath = join(os.getcwd(),'train')\n",
    "\n",
    "cats_imgs = [join(mypath,f) for f in listdir(mypath) if f.startswith('cat')]\n",
    "dogs_imgs = [join(mypath,f) for f in listdir(mypath) if f.startswith('dog')]\n"
   ]
  },
  {
   "cell_type": "code",
   "execution_count": 29,
   "metadata": {},
   "outputs": [
    {
     "name": "stdout",
     "output_type": "stream",
     "text": [
      "cats: 12500 and dogs: 12500\n"
     ]
    }
   ],
   "source": [
    "print(\"cats: {} and dogs: {}\".format(len(cats_imgs),len(dogs_imgs)))"
   ]
  },
  {
   "cell_type": "code",
   "execution_count": 30,
   "metadata": {},
   "outputs": [
    {
     "name": "stdout",
     "output_type": "stream",
     "text": [
      "Requirement already satisfied: sklearn in c:\\users\\92312\\anaconda3\\envs\\myenv\\lib\\site-packages (0.0)\n",
      "Requirement already satisfied: scikit-learn in c:\\users\\92312\\anaconda3\\envs\\myenv\\lib\\site-packages (from sklearn) (0.23.2)\n",
      "Requirement already satisfied: threadpoolctl>=2.0.0 in c:\\users\\92312\\anaconda3\\envs\\myenv\\lib\\site-packages (from scikit-learn->sklearn) (2.1.0)\n",
      "Requirement already satisfied: joblib>=0.11 in c:\\users\\92312\\anaconda3\\envs\\myenv\\lib\\site-packages (from scikit-learn->sklearn) (0.17.0)\n",
      "Requirement already satisfied: scipy>=0.19.1 in c:\\users\\92312\\anaconda3\\envs\\myenv\\lib\\site-packages (from scikit-learn->sklearn) (1.5.4)\n",
      "Requirement already satisfied: numpy>=1.13.3 in c:\\users\\92312\\anaconda3\\envs\\myenv\\lib\\site-packages (from scikit-learn->sklearn) (1.16.6)\n"
     ]
    }
   ],
   "source": [
    "!pip install sklearn"
   ]
  },
  {
   "cell_type": "code",
   "execution_count": 31,
   "metadata": {},
   "outputs": [],
   "source": [
    "# Grid search cross validation\n",
    "from sklearn.model_selection import GridSearchCV\n",
    "#grid={\"C\":np.logspace(-3,3,7), \"penalty\":[\"l1\",\"l2\"]}# l1 lasso l2 ridge\n",
    "#logreg=LogisticRegression()\n",
    "#logreg_cv=GridSearchCV(logreg,grid,cv=10)\n",
    "#logreg_cv.fit(X_train,y_train)\n",
    "#print(\"tuned hpyerparameters :(best parameters) \",logreg_cv.best_params_)\n",
    "#print(\"accuracy :\",logreg_cv.best_score_)"
   ]
  },
  {
   "cell_type": "code",
   "execution_count": 32,
   "metadata": {},
   "outputs": [],
   "source": [
    "from sklearn.model_selection import GridSearchCV\n",
    "def GS(x_train,y_train):\n",
    "    grid={\"C\":np.logspace(-3,3,7), \"penalty\":[\"l1\",\"l2\"]}# l1 lasso l2 ridge\n",
    "    logreg=LogisticRegression()\n",
    "    logreg_cv=GridSearchCV(logreg,grid,cv=10)\n",
    "    logreg_cv.fit(x_train,y_train)\n",
    "    return logreg_cv.best_params_,logreg_cv.best_score_\n",
    "    #print(\"tuned hpyerparameters :(best parameters) \",logreg_cv.best_params_)\n",
    "    #print(\"accuracy :\",logreg_cv.best_score_)"
   ]
  },
  {
   "cell_type": "markdown",
   "metadata": {},
   "source": [
    "## N=10"
   ]
  },
  {
   "cell_type": "code",
   "execution_count": 33,
   "metadata": {},
   "outputs": [
    {
     "name": "stdout",
     "output_type": "stream",
     "text": [
      "Test set score: 0.83\n",
      "time consumed by logisitic regression 0.00 min 1.78 sec\n",
      "\n",
      "Grid Search\n",
      "tuned hpyerparameters :(best parameters) {'C': 0.001, 'penalty': 'l2'}\n",
      "accuracy :0.95\n",
      "time consumed by Grid search 0.00 min 2.26 sec\n",
      "\n",
      "Wall time: 4.04 s\n"
     ]
    }
   ],
   "source": [
    "%%time\n",
    "import time\n",
    "\"the code you want to test stays here\"\n",
    "\n",
    "start10 = time.time()\n",
    "from sklearn.linear_model import LogisticRegression\n",
    "from sklearn.model_selection import train_test_split\n",
    "Nmax = 12\n",
    "cats_features = [get_features(get_image(img)).ravel() for img in cats_imgs[:Nmax]]\n",
    "dogs_features = [get_features(get_image(img)).ravel() for img in dogs_imgs[:Nmax]]\n",
    "\n",
    "Y_cats = np.array(Nmax * [1])\n",
    "Y_dogs = np.array(Nmax * [0])\n",
    "\n",
    "X_cvd = np.vstack([cats_features,dogs_features])\n",
    "Y_cvd = np.vstack([Y_cats,Y_dogs]).ravel()\n",
    "\n",
    "X_train10, X_test10, y_train10, y_test10 = train_test_split(X_cvd, Y_cvd, random_state=42)\n",
    "\n",
    "lg10 = LogisticRegression().fit(X_train10, y_train10)\n",
    "\n",
    "print(\"Test set score: {:.2f}\".format(lg10.score(X_test10, y_test10)))\n",
    "end10 = time.time()\n",
    "print(\"time consumed by logisitic regression {:.2f} min {:.2f} sec\".format(int((end10-start10)/60),(end10-start10)%60))\n",
    "# Grid Search\n",
    "\n",
    "start10cv=time.time()\n",
    "print()\n",
    "print('Grid Search')\n",
    "best_params10,best_score10=GS(X_train10,y_train10)\n",
    "print(\"tuned hpyerparameters :(best parameters) {}\".format((best_params10)))\n",
    "print(\"accuracy :{:.2f}\".format((best_score10)))\n",
    "end10cv=time.time()\n",
    "print(\"time consumed by Grid search {:.2f} min {:.2f} sec\".format(int((end10cv-start10cv)/60),(end10cv-start10cv)%60))\n",
    "print()"
   ]
  },
  {
   "cell_type": "code",
   "execution_count": null,
   "metadata": {},
   "outputs": [],
   "source": []
  },
  {
   "cell_type": "markdown",
   "metadata": {},
   "source": [
    "## N=100 "
   ]
  },
  {
   "cell_type": "code",
   "execution_count": 34,
   "metadata": {},
   "outputs": [
    {
     "name": "stdout",
     "output_type": "stream",
     "text": [
      "Test set score: 0.88\n",
      "time consumed by logisitic regression 0.00 min 15.01 sec\n",
      "\n",
      "Grid Search\n",
      "tuned hpyerparameters :(best parameters)  {'C': 0.1, 'penalty': 'l2'}\n",
      "accuracy : 0.97\n",
      "time consumed by Grid search 0.00 min 5.56 sec\n",
      "\n",
      "Wall time: 20.6 s\n"
     ]
    }
   ],
   "source": [
    "%%time\n",
    "start100 = time.time()\n",
    "from sklearn.linear_model import LogisticRegression\n",
    "from sklearn.model_selection import train_test_split\n",
    "Nmax = 100\n",
    "cats_features = [get_features(get_image(img)).ravel() for img in cats_imgs[:Nmax]]\n",
    "dogs_features = [get_features(get_image(img)).ravel() for img in dogs_imgs[:Nmax]]\n",
    "\n",
    "Y_cats = np.array(Nmax * [1])\n",
    "Y_dogs = np.array(Nmax * [0])\n",
    "\n",
    "X_cvd = np.vstack([cats_features,dogs_features])\n",
    "Y_cvd = np.vstack([Y_cats,Y_dogs]).ravel()\n",
    "\n",
    "X_train100, X_test100, y_train100, y_test100 = train_test_split(X_cvd, Y_cvd, random_state=42)\n",
    "\n",
    "lg100 = LogisticRegression().fit(X_train100, y_train100)\n",
    "\n",
    "print(\"Test set score: {:.2f}\".format(lg100.score(X_test100, y_test100)))\n",
    "end100 = time.time()\n",
    "print(\"time consumed by logisitic regression {:.2f} min {:.2f} sec\".format(int((end100-start100)/60),(end100-start100)%60))\n",
    "\n",
    "# Grid Search\n",
    "start100cv = time.time()\n",
    "print()\n",
    "print('Grid Search')\n",
    "best_params100,best_score100=GS(X_train100,y_train100)\n",
    "print(\"tuned hpyerparameters :(best parameters) \",best_params100)\n",
    "print(\"accuracy : {:.2f}\".format(best_score100))\n",
    "end100cv=time.time()\n",
    "print(\"time consumed by Grid search {:.2f} min {:.2f} sec\".format(int((end100cv-start100cv)/60),(end100cv-start100cv)%60))\n",
    "print()"
   ]
  },
  {
   "cell_type": "code",
   "execution_count": null,
   "metadata": {},
   "outputs": [],
   "source": []
  },
  {
   "cell_type": "markdown",
   "metadata": {},
   "source": [
    "## N=500 "
   ]
  },
  {
   "cell_type": "code",
   "execution_count": 35,
   "metadata": {},
   "outputs": [
    {
     "name": "stdout",
     "output_type": "stream",
     "text": [
      "Test set score: 0.94\n",
      "time consumed by logisitic regression 1.00 min 33.52 sec\n",
      "\n",
      "Grid Search\n",
      "tuned hpyerparameters :(best parameters)  {'C': 100.0, 'penalty': 'l2'}\n",
      "accuracy : 0.96\n",
      "time consumed by Grid search 0.00 min 16.24 sec\n",
      "\n",
      "Wall time: 1min 49s\n"
     ]
    }
   ],
   "source": [
    "%%time\n",
    "start500 = time.time()\n",
    "from sklearn.linear_model import LogisticRegression\n",
    "from sklearn.model_selection import train_test_split\n",
    "Nmax = 500\n",
    "cats_features = [get_features(get_image(img)).ravel() for img in cats_imgs[:Nmax]]\n",
    "dogs_features = [get_features(get_image(img)).ravel() for img in dogs_imgs[:Nmax]]\n",
    "\n",
    "Y_cats = np.array(Nmax * [1])\n",
    "Y_dogs = np.array(Nmax * [0])\n",
    "\n",
    "X_cvd = np.vstack([cats_features,dogs_features])\n",
    "Y_cvd = np.vstack([Y_cats,Y_dogs]).ravel()\n",
    "\n",
    "X_train500, X_test500, y_train500, y_test500 = train_test_split(X_cvd, Y_cvd, random_state=42)\n",
    "\n",
    "lg500 = LogisticRegression().fit(X_train500, y_train500)\n",
    "\n",
    "print(\"Test set score: {:.2f}\".format(lg500.score(X_test500, y_test500)))\n",
    "end500 = time.time()\n",
    "print(\"time consumed by logisitic regression {:.2f} min {:.2f} sec\".format(int((end500-start500)/60),(end500-start500)%60))\n",
    "\n",
    "# Grid Search\n",
    "start500cv = time.time()\n",
    "print()\n",
    "print('Grid Search')\n",
    "best_params500,best_score500=GS(X_train500,y_train500)\n",
    "print(\"tuned hpyerparameters :(best parameters) \",best_params500)\n",
    "print(\"accuracy : {:.2f}\".format(best_score500))\n",
    "end500cv=time.time()\n",
    "print(\"time consumed by Grid search {:.2f} min {:.2f} sec\".format(int((end500cv-start500cv)/60),(end500cv-start500cv)%60))\n",
    "print()"
   ]
  },
  {
   "cell_type": "code",
   "execution_count": null,
   "metadata": {},
   "outputs": [],
   "source": []
  },
  {
   "cell_type": "markdown",
   "metadata": {},
   "source": [
    "## N=1000 "
   ]
  },
  {
   "cell_type": "code",
   "execution_count": 36,
   "metadata": {},
   "outputs": [
    {
     "name": "stdout",
     "output_type": "stream",
     "text": [
      "Test set score: 0.95\n",
      "time consumed by logisitic regression 3.00 min 32.60 sec\n",
      "\n",
      "Grid Search\n",
      "tuned hpyerparameters :(best parameters)  {'C': 0.001, 'penalty': 'l2'}\n",
      "accuracy : 0.95\n",
      "time consumed by Grid search 0.00 min 30.92 sec\n",
      "Wall time: 4min 3s\n"
     ]
    }
   ],
   "source": [
    "%%time\n",
    "start1000 = time.time()\n",
    "from sklearn.linear_model import LogisticRegression\n",
    "from sklearn.model_selection import train_test_split\n",
    "Nmax = 1000\n",
    "cats_features = [get_features(get_image(img)).ravel() for img in cats_imgs[:Nmax]]\n",
    "dogs_features = [get_features(get_image(img)).ravel() for img in dogs_imgs[:Nmax]]\n",
    "\n",
    "Y_cats = np.array(Nmax * [1])\n",
    "Y_dogs = np.array(Nmax * [0])\n",
    "\n",
    "X_cvd = np.vstack([cats_features,dogs_features])\n",
    "Y_cvd = np.vstack([Y_cats,Y_dogs]).ravel()\n",
    "\n",
    "X_train1000, X_test1000, y_train1000, y_test1000 = train_test_split(X_cvd, Y_cvd, random_state=42)\n",
    "\n",
    "lg1000 = LogisticRegression().fit(X_train1000, y_train1000)\n",
    "\n",
    "print(\"Test set score: {:.2f}\".format(lg1000.score(X_test1000, y_test1000)))\n",
    "end1000 = time.time()\n",
    "print(\"time consumed by logisitic regression {:.2f} min {:.2f} sec\".format(int((end1000-start1000)/60),(end1000-start1000)%60))\n",
    "\n",
    "# Grid Search\n",
    "start1000cv = time.time()\n",
    "print()\n",
    "print('Grid Search')\n",
    "best_params1000,best_score1000=GS(X_train1000,y_train1000)\n",
    "print(\"tuned hpyerparameters :(best parameters) \",best_params1000)\n",
    "print(\"accuracy : {:.2f}\".format(best_score1000))\n",
    "end1000cv=time.time()\n",
    "print(\"time consumed by Grid search {:.2f} min {:.2f} sec\".format(int((end1000cv-start1000cv)/60),(end1000cv-start1000cv)%60))"
   ]
  },
  {
   "cell_type": "code",
   "execution_count": null,
   "metadata": {},
   "outputs": [],
   "source": []
  },
  {
   "cell_type": "markdown",
   "metadata": {},
   "source": [
    "## N=5000 "
   ]
  },
  {
   "cell_type": "code",
   "execution_count": 37,
   "metadata": {},
   "outputs": [
    {
     "name": "stdout",
     "output_type": "stream",
     "text": [
      "Test set score: 0.95\n",
      "time consumed by logisitic regression 20.00 min 12.87 sec\n",
      "\n",
      "Grid Search\n",
      "tuned hpyerparameters :(best parameters)  {'C': 0.001, 'penalty': 'l2'}\n",
      "accuracy : 0.97\n",
      "time consumed by Grid search 1.00 min 31.52 sec\n",
      "Wall time: 21min 44s\n"
     ]
    }
   ],
   "source": [
    "%%time\n",
    "start5000 = time.time()\n",
    "from sklearn.linear_model import LogisticRegression\n",
    "from sklearn.model_selection import train_test_split\n",
    "Nmax = 5000\n",
    "cats_features = [get_features(get_image(img)).ravel() for img in cats_imgs[:Nmax]]\n",
    "dogs_features = [get_features(get_image(img)).ravel() for img in dogs_imgs[:Nmax]]\n",
    "\n",
    "Y_cats = np.array(Nmax * [1])\n",
    "Y_dogs = np.array(Nmax * [0])\n",
    "\n",
    "X_cvd = np.vstack([cats_features,dogs_features])\n",
    "Y_cvd = np.vstack([Y_cats,Y_dogs]).ravel()\n",
    "\n",
    "X_train5000, X_test5000, y_train5000, y_test5000 = train_test_split(X_cvd, Y_cvd, random_state=42)\n",
    "\n",
    "lg5000 = LogisticRegression().fit(X_train5000, y_train5000)\n",
    "\n",
    "print(\"Test set score: {:.2f}\".format(lg5000.score(X_test5000, y_test5000)))\n",
    "end5000 = time.time()\n",
    "print(\"time consumed by logisitic regression {:.2f} min {:.2f} sec\".format(int((end5000-start5000)/60),(end5000-start5000)%60))\n",
    "\n",
    "# Grid Search\n",
    "start5000cv = time.time()\n",
    "print()\n",
    "print('Grid Search')\n",
    "best_params5000,best_score5000=GS(X_train5000,y_train5000)\n",
    "print(\"tuned hpyerparameters :(best parameters) \",best_params5000)\n",
    "print(\"accuracy : {:.2f}\".format(best_score5000))\n",
    "end5000cv=time.time()\n",
    "print(\"time consumed by Grid search {:.2f} min {:.2f} sec\".format(int((end5000cv-start5000cv)/60),(end5000cv-start5000cv)%60))"
   ]
  },
  {
   "cell_type": "code",
   "execution_count": null,
   "metadata": {},
   "outputs": [],
   "source": []
  },
  {
   "cell_type": "markdown",
   "metadata": {},
   "source": [
    "## N=12500"
   ]
  },
  {
   "cell_type": "code",
   "execution_count": 38,
   "metadata": {},
   "outputs": [
    {
     "name": "stdout",
     "output_type": "stream",
     "text": [
      "Test set score: 0.97\n",
      "time consumed by logisitic regression 39.00 min 50.22 sec\n",
      "\n",
      "Grid Search\n",
      "tuned hpyerparameters :(best parameters)  {'C': 0.001, 'penalty': 'l2'}\n",
      "accuracy : 0.97\n",
      "time consumed by Grid search 3.00 min 29.30 sec\n",
      "Wall time: 43min 19s\n"
     ]
    }
   ],
   "source": [
    "%%time\n",
    "start12500 = time.time()\n",
    "from sklearn.linear_model import LogisticRegression\n",
    "from sklearn.model_selection import train_test_split\n",
    "Nmax = 12500\n",
    "cats_features = [get_features(get_image(img)).ravel() for img in cats_imgs[:Nmax]]\n",
    "dogs_features = [get_features(get_image(img)).ravel() for img in dogs_imgs[:Nmax]]\n",
    "\n",
    "Y_cats = np.array(Nmax * [1])\n",
    "Y_dogs = np.array(Nmax * [0])\n",
    "\n",
    "X_cvd = np.vstack([cats_features,dogs_features])\n",
    "Y_cvd = np.vstack([Y_cats,Y_dogs]).ravel()\n",
    "\n",
    "X_train12500, X_test12500, y_train12500, y_test12500 = train_test_split(X_cvd, Y_cvd, random_state=42)\n",
    "\n",
    "lg12500 = LogisticRegression().fit(X_train12500, y_train12500)\n",
    "\n",
    "print(\"Test set score: {:.2f}\".format(lg12500.score(X_test12500, y_test12500)))\n",
    "end12500 = time.time()\n",
    "print(\"time consumed by logisitic regression {:.2f} min {:.2f} sec\".format(int((end12500-start12500)/60),(end12500-start12500)%60))\n",
    "\n",
    "# Grid Search\n",
    "start12500cv = time.time()\n",
    "print()\n",
    "print('Grid Search')\n",
    "best_params12500,best_score12500=GS(X_train12500,y_train12500)\n",
    "print(\"tuned hpyerparameters :(best parameters) \",best_params12500)\n",
    "print(\"accuracy : {:.2f}\".format(best_score12500))\n",
    "end12500cv=time.time()\n",
    "print(\"time consumed by Grid search {:.2f} min {:.2f} sec\".format(int((end12500cv-start12500cv)/60),(end12500cv-start12500cv)%60))"
   ]
  },
  {
   "cell_type": "code",
   "execution_count": null,
   "metadata": {},
   "outputs": [],
   "source": []
  },
  {
   "cell_type": "code",
   "execution_count": 39,
   "metadata": {},
   "outputs": [
    {
     "name": "stdout",
     "output_type": "stream",
     "text": [
      "\n",
      "N=10\n",
      "Test set score: 0.83\n",
      "tuned hpyerparameters :(best parameters)  {'C': 0.001, 'penalty': 'l2'}\n",
      "accuracy :0.95\n",
      "time consumed by Grid search 0.00 min 2.26 sec\n",
      "\n",
      "N=100\n",
      "Test set score: 0.88\n",
      "tuned hpyerparameters :(best parameters)  {'C': 0.1, 'penalty': 'l2'}\n",
      "accuracy : 0.97\n",
      "time consumed by Grid search 0.00 min 5.56 sec\n",
      "\n",
      "N=500\n",
      "Test set score: 0.94\n",
      "tuned hpyerparameters :(best parameters)  {'C': 100.0, 'penalty': 'l2'}\n",
      "accuracy : 0.96\n",
      "time consumed by Grid search 0.00 min 16.24 sec\n",
      "\n",
      "N=1000\n",
      "Test set score: 0.95\n",
      "tuned hpyerparameters :(best parameters)  {'C': 0.001, 'penalty': 'l2'}\n",
      "accuracy : 0.95\n",
      "time consumed by Grid search 0.00 min 30.92 sec\n",
      "\n",
      "N=5000\n",
      "Test set score: 0.95\n",
      "tuned hpyerparameters :(best parameters)  {'C': 0.001, 'penalty': 'l2'}\n",
      "accuracy : 0.97\n",
      "time consumed by Grid search 1.00 min 31.52 sec\n",
      "\n",
      "N=12500\n",
      "Test set score: 0.97\n",
      "tuned hpyerparameters :(best parameters)  {'C': 0.001, 'penalty': 'l2'}\n",
      "accuracy : 0.97\n",
      "time consumed by Grid search 3.00 min 29.30 sec\n"
     ]
    }
   ],
   "source": [
    "print()\n",
    "print('N=10')\n",
    "print(\"Test set score: {:.2f}\".format(lg10.score(X_test10, y_test10)))\n",
    "print(\"tuned hpyerparameters :(best parameters) \",best_params10)\n",
    "print(\"accuracy :{:.2f}\".format((best_score10)))\n",
    "print(\"time consumed by Grid search {:.2f} min {:.2f} sec\".format(int((end10cv-start10cv)/60),(end10cv-start10cv)%60))\n",
    "print()\n",
    "print('N=100')\n",
    "print(\"Test set score: {:.2f}\".format(lg100.score(X_test100, y_test100)))\n",
    "print(\"tuned hpyerparameters :(best parameters) \",best_params100)\n",
    "print(\"accuracy : {:.2f}\".format(best_score100))\n",
    "print(\"time consumed by Grid search {:.2f} min {:.2f} sec\".format(int((end100cv-start100cv)/60),(end100cv-start100cv)%60))\n",
    "print()\n",
    "print('N=500')\n",
    "print(\"Test set score: {:.2f}\".format(lg500.score(X_test500, y_test500)))\n",
    "print(\"tuned hpyerparameters :(best parameters) \",best_params500)\n",
    "print(\"accuracy : {:.2f}\".format(best_score500))\n",
    "print(\"time consumed by Grid search {:.2f} min {:.2f} sec\".format(int((end500cv-start500cv)/60),(end500cv-start500cv)%60))\n",
    "print()\n",
    "print('N=1000')\n",
    "print(\"Test set score: {:.2f}\".format(lg1000.score(X_test1000, y_test1000)))\n",
    "print(\"tuned hpyerparameters :(best parameters) \",best_params1000)\n",
    "print(\"accuracy : {:.2f}\".format(best_score1000))\n",
    "print(\"time consumed by Grid search {:.2f} min {:.2f} sec\".format(int((end1000cv-start1000cv)/60),(end1000cv-start1000cv)%60))\n",
    "print()\n",
    "print('N=5000')\n",
    "print(\"Test set score: {:.2f}\".format(lg5000.score(X_test5000, y_test5000)))\n",
    "print(\"tuned hpyerparameters :(best parameters) \",best_params5000)\n",
    "print(\"accuracy : {:.2f}\".format(best_score5000))\n",
    "print(\"time consumed by Grid search {:.2f} min {:.2f} sec\".format(int((end5000cv-start5000cv)/60),(end5000cv-start5000cv)%60))\n",
    "print()\n",
    "print('N=12500')\n",
    "print(\"Test set score: {:.2f}\".format(lg12500.score(X_test12500, y_test12500)))\n",
    "print(\"tuned hpyerparameters :(best parameters) \",best_params12500)\n",
    "print(\"accuracy : {:.2f}\".format(best_score12500))\n",
    "print(\"time consumed by Grid search {:.2f} min {:.2f} sec\".format(int((end12500cv-start12500cv)/60),(end12500cv-start12500cv)%60))"
   ]
  },
  {
   "cell_type": "code",
   "execution_count": 40,
   "metadata": {},
   "outputs": [
    {
     "data": {
      "image/png": "[encoded data removed]",
      "text/plain": [
       "<Figure size 432x288 with 1 Axes>"
      ]
     },
     "metadata": {
      "needs_background": "light"
     },
     "output_type": "display_data"
    }
   ],
   "source": [
    "import matplotlib.image as mpimg\n",
    "\n",
    "dog_test_path = join(os.getcwd(),'Chinook-On-White-03.jpg')\n",
    "cat_test_path = join(os.getcwd(),'Thinking-of-getting-a-cat.png')\n",
    "\n",
    "img = mpimg.imread(dog_test_path)\n",
    "imgplot = plt.imshow(img)\n",
    "plt.show()"
   ]
  },
  {
   "cell_type": "code",
   "execution_count": 41,
   "metadata": {},
   "outputs": [
    {
     "data": {
      "image/png": "[encoded data removed]",
      "text/plain": [
       "<Figure size 432x288 with 1 Axes>"
      ]
     },
     "metadata": {
      "needs_background": "light"
     },
     "output_type": "display_data"
    }
   ],
   "source": [
    "img = mpimg.imread(cat_test_path)\n",
    "imgplot = plt.imshow(img)\n",
    "plt.show()"
   ]
  },
  {
   "cell_type": "code",
   "execution_count": 42,
   "metadata": {},
   "outputs": [
    {
     "name": "stdout",
     "output_type": "stream",
     "text": [
      "prob: [[1.00000000e+00 4.90122721e-18]] and prediction: dog\n"
     ]
    }
   ],
   "source": [
    "features_out = get_features(get_image(dog_test_path))\n",
    "\n",
    "prob = lg1000.predict_proba(features_out)\n",
    "pred = lg1000.predict(features_out)\n",
    "\n",
    "if pred[0] == 1:\n",
    "    fpred = 'cat'\n",
    "else:\n",
    "    fpred = 'dog'\n",
    "    \n",
    "print(\"prob: {} and prediction: {}\".format(prob,fpred))"
   ]
  },
  {
   "cell_type": "code",
   "execution_count": 43,
   "metadata": {},
   "outputs": [
    {
     "name": "stdout",
     "output_type": "stream",
     "text": [
      "prob: [[3.33066907e-15 1.00000000e+00]] and prediction: cat\n"
     ]
    }
   ],
   "source": [
    "features_out = get_features(get_image(cat_test_path))\n",
    "\n",
    "prob = lg1000.predict_proba(features_out)\n",
    "pred = lg1000.predict(features_out)\n",
    "\n",
    "if pred[0] == 1:\n",
    "    fpred = 'cat'\n",
    "else:\n",
    "    fpred = 'dog'\n",
    "    \n",
    "print(\"prob: {} and prediction: {}\".format(prob,fpred))"
   ]
  },
  {
   "cell_type": "code",
   "execution_count": 45,
   "metadata": {},
   "outputs": [
    {
     "data": {
      "text/plain": [
       "[<matplotlib.lines.Line2D at 0x14e259ff320>]"
      ]
     },
     "execution_count": 45,
     "metadata": {},
     "output_type": "execute_result"
    },
    {
     "data": {
      "image/png": "[encoded data removed]",
      "text/plain": [
       "<Figure size 432x288 with 1 Axes>"
      ]
     },
     "metadata": {
      "needs_background": "light"
     },
     "output_type": "display_data"
    }
   ],
   "source": [
    "x1=[10, 100, 500, 1000, 5000, 12500]\n",
    "y1=[best_score10, best_score100, best_score500, best_score1000, best_score5000, best_score12500]\n",
    "#y2=[best_score10b, best_score100b, best_score500b, best_score1000b, best_score5000b, best_score12500b]\n",
    "plt.plot(x1,y1) "
   ]
  },
  {
   "cell_type": "markdown",
   "metadata": {},
   "source": [
    "# MOBILENET"
   ]
  },
  {
   "cell_type": "code",
   "execution_count": 46,
   "metadata": {},
   "outputs": [],
   "source": [
    "sym2, arg_params2, aux_params2 = mx.model.load_checkpoint('mobilenet_v2', 0)"
   ]
  },
  {
   "cell_type": "code",
   "execution_count": 47,
   "metadata": {},
   "outputs": [],
   "source": [
    "mod2 = mx.mod.Module(symbol=sym2, context=mx.cpu(), label_names=None)\n",
    "mod2.bind(for_training=False, data_shapes=[('data', (1,3,224,224))], \n",
    "         label_shapes=mod2._label_shapes)\n",
    "mod2.set_params(arg_params2, aux_params2, allow_missing=True)"
   ]
  },
  {
   "cell_type": "code",
   "execution_count": 48,
   "metadata": {},
   "outputs": [
    {
     "data": {
      "text/plain": [
       "['conv6_4_bn_moving_var',\n",
       " 'conv6_4_bn_output',\n",
       " 'relu6_4_output',\n",
       " 'pool6_output',\n",
       " 'fc7_weight',\n",
       " 'fc7_bias',\n",
       " 'fc7_output',\n",
       " 'fc7_flatten_output',\n",
       " 'prob_label',\n",
       " 'prob_output']"
      ]
     },
     "execution_count": 48,
     "metadata": {},
     "output_type": "execute_result"
    }
   ],
   "source": [
    "# list the last 10 layers\n",
    "all_layers2 = sym2.get_internals()\n",
    "all_layers2.list_outputs()[-10:]"
   ]
  },
  {
   "cell_type": "code",
   "execution_count": 49,
   "metadata": {},
   "outputs": [
    {
     "data": {
      "text/plain": [
       "'fc7_flatten_output'"
      ]
     },
     "execution_count": 49,
     "metadata": {},
     "output_type": "execute_result"
    }
   ],
   "source": [
    "all_layers2.list_outputs()[-3]"
   ]
  },
  {
   "cell_type": "code",
   "execution_count": 50,
   "metadata": {},
   "outputs": [],
   "source": [
    "fe_sym2 = all_layers2['fc7_flatten_output']\n",
    "fe_mod2 = mx.mod.Module(symbol=fe_sym2, context=mx.cpu(), label_names=None)\n",
    "fe_mod2.bind(for_training=False, data_shapes=[('data', (1,3,224,224))])\n",
    "fe_mod2.set_params(arg_params2, aux_params2)"
   ]
  },
  {
   "cell_type": "code",
   "execution_count": 51,
   "metadata": {},
   "outputs": [],
   "source": [
    "def Task2(Nmax):\n",
    "    cats_features = [get_features(get_image(img)).ravel() for img in cats_imgs[:Nmax]]\n",
    "    dogs_features = [get_features(get_image(img)).ravel() for img in dogs_imgs[:Nmax]]\n",
    "\n",
    "    Y_cats = np.array(Nmax * [1])\n",
    "    Y_dogs = np.array(Nmax * [0])\n",
    "\n",
    "    X_cvd = np.vstack([cats_features,dogs_features])\n",
    "    Y_cvd = np.vstack([Y_cats,Y_dogs]).ravel()\n",
    "    return X_cvd,Y_cvd"
   ]
  },
  {
   "cell_type": "markdown",
   "metadata": {},
   "source": [
    "## N=10 "
   ]
  },
  {
   "cell_type": "code",
   "execution_count": 52,
   "metadata": {},
   "outputs": [
    {
     "name": "stdout",
     "output_type": "stream",
     "text": [
      "Test set score: 0.83\n",
      "time consumed by logisitic regression 0.00 min 1.77 sec\n",
      "\n",
      "Grid Search\n",
      "tuned hpyerparameters :(best parameters) {'C': 0.001, 'penalty': 'l2'}\n",
      "accuracy :0.95\n",
      "time consumed by Grid search 0.00 min 2.18 sec\n",
      "\n",
      "Wall time: 3.95 s\n"
     ]
    }
   ],
   "source": [
    "%%time\n",
    "start10b = time.time()\n",
    "X_cvd10,Y_cvd10=Task2(12)\n",
    "X_train10b, X_test10b, y_train10b, y_test10b = train_test_split(X_cvd10, Y_cvd10, random_state=42)\n",
    "lg10b = LogisticRegression().fit(X_train10b, y_train10b)\n",
    "print(\"Test set score: {:.2f}\".format(lg10b.score(X_test10b, y_test10b)))\n",
    "end10b = time.time()\n",
    "print(\"time consumed by logisitic regression {:.2f} min {:.2f} sec\".format(int((end10b-start10b)/60),(end10b-start10b)%60))\n",
    "\n",
    "# Grid Search\n",
    "start10bcv=time.time()\n",
    "print()\n",
    "print('Grid Search')\n",
    "best_params10b,best_score10b=GS(X_train10b,y_train10b)\n",
    "print(\"tuned hpyerparameters :(best parameters) {}\".format((best_params10b)))\n",
    "print(\"accuracy :{:.2f}\".format((best_score10b)))\n",
    "end10bcv=time.time()\n",
    "print(\"time consumed by Grid search {:.2f} min {:.2f} sec\".format(int((end10bcv-start10bcv)/60),(end10bcv-start10bcv)%60))\n",
    "print()"
   ]
  },
  {
   "cell_type": "markdown",
   "metadata": {},
   "source": [
    "## N=100 "
   ]
  },
  {
   "cell_type": "code",
   "execution_count": 53,
   "metadata": {},
   "outputs": [
    {
     "name": "stdout",
     "output_type": "stream",
     "text": [
      "Test set score: 0.88\n",
      "time consumed by logisitic regression 0.00 min 13.80 sec\n",
      "\n",
      "Grid Search\n",
      "tuned hpyerparameters :(best parameters) {'C': 0.1, 'penalty': 'l2'}\n",
      "accuracy :0.97\n",
      "time consumed by Grid search 0.00 min 5.23 sec\n",
      "\n",
      "Wall time: 19 s\n"
     ]
    }
   ],
   "source": [
    "%%time\n",
    "start100b = time.time()\n",
    "X_cvd100,Y_cvd100=Task2(100)\n",
    "X_train100b, X_test100b, y_train100b, y_test100b = train_test_split(X_cvd100, Y_cvd100, random_state=42)\n",
    "lg100b = LogisticRegression().fit(X_train100b, y_train100b)\n",
    "print(\"Test set score: {:.2f}\".format(lg100b.score(X_test100b, y_test100b)))\n",
    "end100b = time.time()\n",
    "print(\"time consumed by logisitic regression {:.2f} min {:.2f} sec\".format(int((end100b-start100b)/60),(end100b-start100b)%60))\n",
    "\n",
    "# Grid Search\n",
    "start100bcv=time.time()\n",
    "print()\n",
    "print('Grid Search')\n",
    "best_params100b,best_score100b=GS(X_train100b,y_train100b)\n",
    "print(\"tuned hpyerparameters :(best parameters) {}\".format((best_params100b)))\n",
    "print(\"accuracy :{:.2f}\".format((best_score100b)))\n",
    "end100bcv=time.time()\n",
    "print(\"time consumed by Grid search {:.2f} min {:.2f} sec\".format(int((end100bcv-start100bcv)/60),(end100bcv-start100bcv)%60))\n",
    "print()"
   ]
  },
  {
   "cell_type": "markdown",
   "metadata": {},
   "source": [
    "## N=500 "
   ]
  },
  {
   "cell_type": "code",
   "execution_count": 54,
   "metadata": {},
   "outputs": [
    {
     "name": "stdout",
     "output_type": "stream",
     "text": [
      "Test set score: 0.94\n",
      "time consumed by logisitic regression 1.00 min 8.03 sec\n",
      "\n",
      "Grid Search\n",
      "tuned hpyerparameters :(best parameters) {'C': 100.0, 'penalty': 'l2'}\n",
      "accuracy :0.96\n",
      "time consumed by Grid search 0.00 min 14.57 sec\n",
      "\n",
      "Wall time: 1min 22s\n"
     ]
    }
   ],
   "source": [
    "%%time\n",
    "start500b = time.time()\n",
    "X_cvd500,Y_cvd500=Task2(500)\n",
    "X_train500b, X_test500b, y_train500b, y_test500b = train_test_split(X_cvd500, Y_cvd500, random_state=42)\n",
    "lg500b = LogisticRegression().fit(X_train500b, y_train500b)\n",
    "print(\"Test set score: {:.2f}\".format(lg500b.score(X_test500b, y_test500b)))\n",
    "end500b = time.time()\n",
    "print(\"time consumed by logisitic regression {:.2f} min {:.2f} sec\".format(int((end500b-start500b)/60),(end500b-start500b)%60))\n",
    "\n",
    "# Grid Search\n",
    "start500bcv=time.time()\n",
    "print()\n",
    "print('Grid Search')\n",
    "best_params500b,best_score500b=GS(X_train500b,y_train500b)\n",
    "print(\"tuned hpyerparameters :(best parameters) {}\".format((best_params500b)))\n",
    "print(\"accuracy :{:.2f}\".format((best_score500b)))\n",
    "end500bcv=time.time()\n",
    "print(\"time consumed by Grid search {:.2f} min {:.2f} sec\".format(int((end500bcv-start500bcv)/60),(end500bcv-start500bcv)%60))\n",
    "print()"
   ]
  },
  {
   "cell_type": "markdown",
   "metadata": {},
   "source": [
    "## N=1000 "
   ]
  },
  {
   "cell_type": "code",
   "execution_count": 55,
   "metadata": {},
   "outputs": [
    {
     "name": "stdout",
     "output_type": "stream",
     "text": [
      "Test set score: 0.95\n",
      "time consumed by logisitic regression 2.00 min 29.71 sec\n",
      "\n",
      "Grid Search\n",
      "tuned hpyerparameters :(best parameters) {'C': 0.001, 'penalty': 'l2'}\n",
      "accuracy :0.95\n",
      "time consumed by Grid search 0.00 min 21.35 sec\n",
      "\n",
      "Wall time: 2min 51s\n"
     ]
    }
   ],
   "source": [
    "%%time\n",
    "start1000b = time.time()\n",
    "X_cvd1000,Y_cvd1000=Task2(1000)\n",
    "X_train1000b, X_test1000b, y_train1000b, y_test1000b = train_test_split(X_cvd1000, Y_cvd1000, random_state=42)\n",
    "lg1000b = LogisticRegression().fit(X_train1000b, y_train1000b)\n",
    "print(\"Test set score: {:.2f}\".format(lg1000b.score(X_test1000b, y_test1000b)))\n",
    "end1000b = time.time()\n",
    "print(\"time consumed by logisitic regression {:.2f} min {:.2f} sec\".format(int((end1000b-start1000b)/60),(end1000b-start1000b)%60))\n",
    "\n",
    "# Grid Search\n",
    "start1000bcv=time.time()\n",
    "print()\n",
    "print('Grid Search')\n",
    "best_params1000b,best_score1000b=GS(X_train1000b,y_train1000b)\n",
    "print(\"tuned hpyerparameters :(best parameters) {}\".format((best_params1000b)))\n",
    "print(\"accuracy :{:.2f}\".format((best_score1000b)))\n",
    "end1000bcv=time.time()\n",
    "print(\"time consumed by Grid search {:.2f} min {:.2f} sec\".format(int((end1000bcv-start1000bcv)/60),(end1000bcv-start1000bcv)%60))\n",
    "print()"
   ]
  },
  {
   "cell_type": "markdown",
   "metadata": {},
   "source": [
    "## N=5000 "
   ]
  },
  {
   "cell_type": "code",
   "execution_count": 56,
   "metadata": {},
   "outputs": [
    {
     "name": "stdout",
     "output_type": "stream",
     "text": [
      "Test set score: 0.95\n",
      "time consumed by logisitic regression 13.00 min 5.90 sec\n",
      "\n",
      "Grid Search\n",
      "tuned hpyerparameters :(best parameters) {'C': 0.001, 'penalty': 'l2'}\n",
      "accuracy :0.97\n",
      "time consumed by Grid search 1.00 min 22.17 sec\n",
      "\n",
      "Wall time: 14min 28s\n"
     ]
    }
   ],
   "source": [
    "%%time\n",
    "start5000b = time.time()\n",
    "X_cvd5000,Y_cvd5000=Task2(5000)\n",
    "X_train5000b, X_test5000b, y_train5000b, y_test5000b = train_test_split(X_cvd5000, Y_cvd5000, random_state=42)\n",
    "lg5000b = LogisticRegression().fit(X_train5000b, y_train5000b)\n",
    "print(\"Test set score: {:.2f}\".format(lg5000b.score(X_test5000b, y_test5000b)))\n",
    "end5000b = time.time()\n",
    "print(\"time consumed by logisitic regression {:.2f} min {:.2f} sec\".format(int((end5000b-start5000b)/60),(end5000b-start5000b)%60))\n",
    "\n",
    "# Grid Search\n",
    "start5000bcv=time.time()\n",
    "print()\n",
    "print('Grid Search')\n",
    "best_params5000b,best_score5000b=GS(X_train5000b,y_train5000b)\n",
    "print(\"tuned hpyerparameters :(best parameters) {}\".format((best_params5000b)))\n",
    "print(\"accuracy :{:.2f}\".format((best_score5000b)))\n",
    "end5000bcv=time.time()\n",
    "print(\"time consumed by Grid search {:.2f} min {:.2f} sec\".format(int((end5000bcv-start5000bcv)/60),(end5000bcv-start5000bcv)%60))\n",
    "print()"
   ]
  },
  {
   "cell_type": "markdown",
   "metadata": {},
   "source": [
    "## N=12500 "
   ]
  },
  {
   "cell_type": "code",
   "execution_count": 57,
   "metadata": {},
   "outputs": [
    {
     "name": "stdout",
     "output_type": "stream",
     "text": [
      "Test set score: 0.97\n",
      "time consumed by logisitic regression 33.00 min 46.91 sec\n",
      "\n",
      "Grid Search\n",
      "tuned hpyerparameters :(best parameters) {'C': 0.001, 'penalty': 'l2'}\n",
      "accuracy :0.97\n",
      "time consumed by Grid search 3.00 min 31.02 sec\n",
      "\n",
      "Wall time: 37min 17s\n"
     ]
    }
   ],
   "source": [
    "%%time\n",
    "start12500b = time.time()\n",
    "X_cvd12500,Y_cvd12500=Task2(12500)\n",
    "X_train12500b, X_test12500b, y_train12500b, y_test12500b = train_test_split(X_cvd12500, Y_cvd12500, random_state=42)\n",
    "lg12500b = LogisticRegression().fit(X_train12500b, y_train12500b)\n",
    "print(\"Test set score: {:.2f}\".format(lg12500b.score(X_test12500b, y_test12500b)))\n",
    "end12500b = time.time()\n",
    "print(\"time consumed by logisitic regression {:.2f} min {:.2f} sec\".format(int((end12500b-start12500b)/60),(end12500b-start12500b)%60))\n",
    "\n",
    "# Grid Search\n",
    "start12500bcv=time.time()\n",
    "print()\n",
    "print('Grid Search')\n",
    "best_params12500b,best_score12500b=GS(X_train12500b,y_train12500b)\n",
    "print(\"tuned hpyerparameters :(best parameters) {}\".format((best_params12500b)))\n",
    "print(\"accuracy :{:.2f}\".format((best_score12500b)))\n",
    "end12500bcv=time.time()\n",
    "print(\"time consumed by Grid search {:.2f} min {:.2f} sec\".format(int((end12500bcv-start12500bcv)/60),(end12500bcv-start12500bcv)%60))\n",
    "print()"
   ]
  },
  {
   "cell_type": "code",
   "execution_count": 58,
   "metadata": {},
   "outputs": [
    {
     "name": "stdout",
     "output_type": "stream",
     "text": [
      "\n",
      "N=10\n",
      "Test set score: 0.83\n",
      "tuned hpyerparameters :(best parameters)  {'C': 0.001, 'penalty': 'l2'}\n",
      "accuracy :0.95\n",
      "time consumed by Grid search 0.00 min 2.18 sec\n",
      "\n",
      "N=100\n",
      "Test set score: 0.88\n",
      "tuned hpyerparameters :(best parameters)  {'C': 0.1, 'penalty': 'l2'}\n",
      "accuracy : 0.97\n",
      "time consumed by Grid search 0.00 min 5.23 sec\n",
      "\n",
      "N=500\n",
      "Test set score: 0.94\n",
      "tuned hpyerparameters :(best parameters)  {'C': 100.0, 'penalty': 'l2'}\n",
      "accuracy : 0.96\n",
      "time consumed by Grid search 0.00 min 14.57 sec\n",
      "\n",
      "N=1000\n",
      "Test set score: 0.95\n",
      "tuned hpyerparameters :(best parameters)  {'C': 0.001, 'penalty': 'l2'}\n",
      "accuracy : 0.95\n",
      "time consumed by Grid search 0.00 min 21.35 sec\n",
      "\n",
      "N=5000\n",
      "Test set score: 0.95\n",
      "tuned hpyerparameters :(best parameters)  {'C': 0.001, 'penalty': 'l2'}\n",
      "accuracy : 0.97\n",
      "time consumed by Grid search 1.00 min 22.17 sec\n",
      "\n",
      "N=12500\n",
      "Test set score: 0.97\n",
      "tuned hpyerparameters :(best parameters)  {'C': 0.001, 'penalty': 'l2'}\n",
      "accuracy : 0.97\n",
      "time consumed by Grid search 3.00 min 31.02 sec\n"
     ]
    }
   ],
   "source": [
    "print()\n",
    "print('N=10')\n",
    "print(\"Test set score: {:.2f}\".format(lg10b.score(X_test10b, y_test10b)))\n",
    "print(\"tuned hpyerparameters :(best parameters) \",best_params10b)\n",
    "print(\"accuracy :{:.2f}\".format((best_score10b)))\n",
    "print(\"time consumed by Grid search {:.2f} min {:.2f} sec\".format(int((end10bcv-start10bcv)/60),(end10bcv-start10bcv)%60))\n",
    "print()\n",
    "print('N=100')\n",
    "print(\"Test set score: {:.2f}\".format(lg100b.score(X_test100b, y_test100b)))\n",
    "print(\"tuned hpyerparameters :(best parameters) \",best_params100b)\n",
    "print(\"accuracy : {:.2f}\".format(best_score100b))\n",
    "print(\"time consumed by Grid search {:.2f} min {:.2f} sec\".format(int((end100bcv-start100bcv)/60),(end100bcv-start100bcv)%60))\n",
    "print()\n",
    "print('N=500')\n",
    "print(\"Test set score: {:.2f}\".format(lg500b.score(X_test500b, y_test500b)))\n",
    "print(\"tuned hpyerparameters :(best parameters) \",best_params500b)\n",
    "print(\"accuracy : {:.2f}\".format(best_score500b))\n",
    "print(\"time consumed by Grid search {:.2f} min {:.2f} sec\".format(int((end500bcv-start500bcv)/60),(end500bcv-start500bcv)%60))\n",
    "print()\n",
    "print('N=1000')\n",
    "print(\"Test set score: {:.2f}\".format(lg1000b.score(X_test1000b, y_test1000b)))\n",
    "print(\"tuned hpyerparameters :(best parameters) \",best_params1000b)\n",
    "print(\"accuracy : {:.2f}\".format(best_score1000b))\n",
    "print(\"time consumed by Grid search {:.2f} min {:.2f} sec\".format(int((end1000bcv-start1000bcv)/60),(end1000bcv-start1000bcv)%60))\n",
    "print()\n",
    "print('N=5000')\n",
    "print(\"Test set score: {:.2f}\".format(lg5000b.score(X_test5000b, y_test5000b)))\n",
    "print(\"tuned hpyerparameters :(best parameters) \",best_params5000b)\n",
    "print(\"accuracy : {:.2f}\".format(best_score5000b))\n",
    "print(\"time consumed by Grid search {:.2f} min {:.2f} sec\".format(int((end5000bcv-start5000bcv)/60),(end5000bcv-start5000bcv)%60))\n",
    "print()\n",
    "print('N=12500')\n",
    "print(\"Test set score: {:.2f}\".format(lg12500b.score(X_test12500b, y_test12500b)))\n",
    "print(\"tuned hpyerparameters :(best parameters) \",best_params12500b)\n",
    "print(\"accuracy : {:.2f}\".format(best_score12500b))\n",
    "print(\"time consumed by Grid search {:.2f} min {:.2f} sec\".format(int((end12500bcv-start12500bcv)/60),(end12500bcv-start12500bcv)%60))"
   ]
  },
  {
   "cell_type": "code",
   "execution_count": 61,
   "metadata": {},
   "outputs": [
    {
     "data": {
      "text/plain": [
       "[<matplotlib.lines.Line2D at 0x14e39c277b8>,\n",
       " <matplotlib.lines.Line2D at 0x14e39c27828>]"
      ]
     },
     "execution_count": 61,
     "metadata": {},
     "output_type": "execute_result"
    },
    {
     "data": {
      "image/png": "[encoded data removed]",
      "text/plain": [
       "<Figure size 432x288 with 1 Axes>"
      ]
     },
     "metadata": {
      "needs_background": "light"
     },
     "output_type": "display_data"
    }
   ],
   "source": [
    "x1=[10, 100, 500, 1000, 5000, 12500]\n",
    "y1=[best_score10, best_score100, best_score500, best_score1000, best_score5000, best_score12500]\n",
    "y2=[best_score10b, best_score100b, best_score500b, best_score1000b, best_score5000b, best_score12500b]\n",
    "plt.plot(x1,y1,'r--',x1,y2,'bs') \n",
    "         "
   ]
  },
  {
   "cell_type": "code",
   "execution_count": 67,
   "metadata": {},
   "outputs": [
    {
     "name": "stdout",
     "output_type": "stream",
     "text": [
      "Accuracy of Best score of Grid Search\n",
      "0 10   SqueezeNET: 0.95 MobileNET: 0.95\n",
      "1 100   SqueezeNET: 0.97 MobileNET: 0.97\n",
      "2 500   SqueezeNET: 0.96 MobileNET: 0.96\n",
      "3 1000   SqueezeNET: 0.95 MobileNET: 0.95\n",
      "4 5000   SqueezeNET: 0.97 MobileNET: 0.97\n",
      "5 12500   SqueezeNET: 0.97 MobileNET: 0.97\n"
     ]
    }
   ],
   "source": [
    "print('Accuracy of Best score of Grid Search')\n",
    "for i in range(len(x1)):\n",
    "    print(\"{} {}   SqueezeNET: {:.2f} MobileNET: {:.2f}\".format(i,x1[i],y1[i],y2[i]))"
   ]
  },
  {
   "cell_type": "markdown",
   "metadata": {},
   "source": [
    "The values are found to be almost same for both cases as shown in the graph above and the calculations above"
   ]
  },
  {
   "cell_type": "code",
   "execution_count": null,
   "metadata": {},
   "outputs": [],
   "source": []
  }
 ],
 "metadata": {
  "kernelspec": {
   "display_name": "Python 3",
   "language": "python",
   "name": "python3"
  },
  "language_info": {
   "codemirror_mode": {
    "name": "ipython",
    "version": 3
   },
   "file_extension": ".py",
   "mimetype": "text/x-python",
   "name": "python",
   "nbconvert_exporter": "python",
   "pygments_lexer": "ipython3",
   "version": "3.6.12"
  }
 },
 "nbformat": 4,
 "nbformat_minor": 4
}
